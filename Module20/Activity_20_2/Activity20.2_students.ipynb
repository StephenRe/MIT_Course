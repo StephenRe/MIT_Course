{
 "cells": [
  {
   "cell_type": "markdown",
   "metadata": {},
   "source": [
    "# Activity 20.2: Using Python for Spam Detection\n"
   ]
  },
  {
   "cell_type": "markdown",
   "metadata": {},
   "source": [
    "## Learning Outcome Addressed:\n",
    "\n",
    "- 6. Implement spam detection using Python.\n",
    "\n",
    "## Activity Overview\n",
    "\n",
    "In this activity, you will apply the Naïve Bayes theorem to a database that contains spam emails.\n",
    "Naïve Bayes is a classification technique based on Bayes theorem with an assumption of independence among predictors. \n",
    "\n",
    "Bayes theorem is stated mathematically as the following equation:\n",
    "\n",
    "$$P(A | B) = \\frac{P(B|A)P(A)}{P(B)},$$\n",
    "\n",
    "where\n",
    "\n",
    " - $P(A| B)$ is a conditional probability: the likelihood of event $A$ occurring given that $B$ is true.\n",
    " - $P(B|A)$ is also a conditional probability: the likelihood of event $B$ occurring given that $A$ is true.\n",
    " - $P(A)$ and $P(B)$ are the probabilities of observing events $A$ and $B$.\n",
    "\n",
    "In simple terms, a Naïve Bayes classifier assumes that the presence of a particular feature in a *class* is unrelated to the presence of any other feature. \n",
    "\n",
    "For example, a fruit may be considered to be an apple if it is red, round, and about three inches in diameter. Even if these features depend on each other or upon the existence of the other features, these properties independently contribute to the probability that this fruit is an apple. That is why it is known as ‘Naïve’.\n",
    "\n",
    "This activity is designed to help you apply the machine learning algorithms that you have learned using *packages* in Python. Python concepts, instructions, and the starter code are embedded within this Jupyter Notebook to help guide you as you progress through the activity. Remember to run the code of each code cell prior to your submission. Upon completing the activity, you are encouraged to compare your work against the solution file to perform a self-assessment.\n"
   ]
  },
  {
   "cell_type": "markdown",
   "metadata": {},
   "source": [
    "## Index:\n",
    "\n",
    "- [Part 1 - Importing the Dataset and Exploratory Data Analysis (EDA)](#part1)\n",
    "- [Part 2 - Shuffling  and Splitting the Emails](#part2)\n",
    "- [Part 3 - Building a Simple Naïve Bayes Classifier From Scratch](#part3)\n",
    "- [Part 4 - Explaining the Code Given in Part 3](#part4)\n",
    "- [Part 5 - Train the Classifier `train`](#part5)\n",
    "- [Part 6 - Explore the Performance of `train` Classifier ](#part6)\n",
    "- [Part 7 - Training the `train2` Classifier ](#part7)\n"
   ]
  },
  {
   "cell_type": "markdown",
   "metadata": {},
   "source": [
    "\n",
    "## The Naïve Bayes Algorithm\n",
    "\n",
    "You have now learned about the **Naïve Bayes algorithm** for classification. \n",
    "\n",
    "The pseudo-algorithm for Naïve Bayes can be summarized as follows: \n",
    "1. Load the training and test data.\n",
    "2. Shuffle the messages and split them.\n",
    "3. Build a simple Naïve Bayes classifier from scratch.\n",
    "4. Train the classifier and explore the performance."
   ]
  },
  {
   "cell_type": "markdown",
   "metadata": {},
   "source": [
    "###  Build a Naïve Bayes Spam Filter\n",
    "\n",
    "For this exercise, you will use the [“SMSSpamCollection”](https://archive.ics.uci.edu/ml/machine-learning-databases/00228/) dataset  to build a Naïve Bayes spam filter by going through the following steps:\n",
    "\n",
    "1. Load the data file.\n",
    "2. Shuffle the messages and split them into a training set (2,500 emails), a validation set (1,000 messages), and a test set (all remaining messages).\n",
    "3. Build a simple Naïve Bayes classifier.\n",
    "4. Explain the code given in Part 3.\n",
    "5. Use your training set to train the ‘train’ classifier. Note that the interfaces of the classifiers require you to pass the non-spam and spam emails separately.\n",
    "6. Using the validation set, explore how the classifier performs.\n",
    "7. Define a second classifier and compare its performance with the one defined in Part 3.\n"
   ]
  },
  {
   "cell_type": "markdown",
   "metadata": {},
   "source": [
    "[Back to top](#Index:) \n",
    "\n",
    "<a id='part1'></a>\n",
    "\n",
    "### Part 1: Importing the Dataset and  Exploratory Data Analysis (EDA)\n",
    "\n",
    "Begin by using `pandas` to import the dataset. To do so, import `pandas` first and then read the file using the `.read_csv` *function* by passing the name of the dataset that you want to read as a *string*.\n",
    "\n",
    "Notice that because the rows in the dataset are separated using a `\\t`, the type of delimiter is specified in the `.read_csv()` *function*; the default value is `,`. Additionally, the list of column names to use is specified (`\"label\"` and `\"emails\"`).\n",
    "\n",
    "Complete the code cell below by adding the name of the dataset inside `.read_csv()`."
   ]
  },
  {
   "cell_type": "code",
   "execution_count": 10,
   "metadata": {},
   "outputs": [],
   "source": [
    "import pandas as pd\n",
    "\n",
    "emails = pd.read_csv('EmailSpamCollection.csv', sep = '\\t', names = [\"label\", \"email\"])"
   ]
  },
  {
   "cell_type": "markdown",
   "metadata": {},
   "source": [
    "Before performing any algorithm on the *dataframe*, it is always good practice to perform exploratory data analysis.\n",
    "\n",
    "Begin by visualizing the first ten rows of the `df` *dataframe* using the `head()` *function*. By default, *`head()`* displays the first five rows of a *dataframe*.\n",
    "\n",
    "Complete the code cell below by passing the desired number of rows to the `head()` *function* as an *integer*."
   ]
  },
  {
   "cell_type": "code",
   "execution_count": 3,
   "metadata": {},
   "outputs": [
    {
     "data": {
      "text/html": [
       "<div>\n",
       "<style scoped>\n",
       "    .dataframe tbody tr th:only-of-type {\n",
       "        vertical-align: middle;\n",
       "    }\n",
       "\n",
       "    .dataframe tbody tr th {\n",
       "        vertical-align: top;\n",
       "    }\n",
       "\n",
       "    .dataframe thead th {\n",
       "        text-align: right;\n",
       "    }\n",
       "</style>\n",
       "<table border=\"1\" class=\"dataframe\">\n",
       "  <thead>\n",
       "    <tr style=\"text-align: right;\">\n",
       "      <th></th>\n",
       "      <th>label</th>\n",
       "      <th>email</th>\n",
       "    </tr>\n",
       "  </thead>\n",
       "  <tbody>\n",
       "    <tr>\n",
       "      <th>0</th>\n",
       "      <td>ham</td>\n",
       "      <td>Go until jurong point, crazy.. Available only ...</td>\n",
       "    </tr>\n",
       "    <tr>\n",
       "      <th>1</th>\n",
       "      <td>ham</td>\n",
       "      <td>Ok lar... Joking wif u oni...</td>\n",
       "    </tr>\n",
       "    <tr>\n",
       "      <th>2</th>\n",
       "      <td>spam</td>\n",
       "      <td>Free entry in 2 a wkly comp to win FA Cup fina...</td>\n",
       "    </tr>\n",
       "    <tr>\n",
       "      <th>3</th>\n",
       "      <td>ham</td>\n",
       "      <td>U dun say so early hor... U c already then say...</td>\n",
       "    </tr>\n",
       "    <tr>\n",
       "      <th>4</th>\n",
       "      <td>ham</td>\n",
       "      <td>Nah I don't think he goes to usf, he lives aro...</td>\n",
       "    </tr>\n",
       "    <tr>\n",
       "      <th>5</th>\n",
       "      <td>spam</td>\n",
       "      <td>FreeMsg Hey there darling it's been 3 week's n...</td>\n",
       "    </tr>\n",
       "    <tr>\n",
       "      <th>6</th>\n",
       "      <td>ham</td>\n",
       "      <td>Even my brother is not like to speak with me. ...</td>\n",
       "    </tr>\n",
       "    <tr>\n",
       "      <th>7</th>\n",
       "      <td>ham</td>\n",
       "      <td>As per your request 'Melle Melle (Oru Minnamin...</td>\n",
       "    </tr>\n",
       "    <tr>\n",
       "      <th>8</th>\n",
       "      <td>spam</td>\n",
       "      <td>WINNER!! As a valued network customer you have...</td>\n",
       "    </tr>\n",
       "    <tr>\n",
       "      <th>9</th>\n",
       "      <td>spam</td>\n",
       "      <td>Had your mobile 11 months or more? U R entitle...</td>\n",
       "    </tr>\n",
       "  </tbody>\n",
       "</table>\n",
       "</div>"
      ],
      "text/plain": [
       "  label                                              email\n",
       "0   ham  Go until jurong point, crazy.. Available only ...\n",
       "1   ham                      Ok lar... Joking wif u oni...\n",
       "2  spam  Free entry in 2 a wkly comp to win FA Cup fina...\n",
       "3   ham  U dun say so early hor... U c already then say...\n",
       "4   ham  Nah I don't think he goes to usf, he lives aro...\n",
       "5  spam  FreeMsg Hey there darling it's been 3 week's n...\n",
       "6   ham  Even my brother is not like to speak with me. ...\n",
       "7   ham  As per your request 'Melle Melle (Oru Minnamin...\n",
       "8  spam  WINNER!! As a valued network customer you have...\n",
       "9  spam  Had your mobile 11 months or more? U R entitle..."
      ]
     },
     "execution_count": 3,
     "metadata": {},
     "output_type": "execute_result"
    }
   ],
   "source": [
    "\n",
    "emails.head(10)"
   ]
  },
  {
   "cell_type": "markdown",
   "metadata": {},
   "source": [
    "\n",
    "Next, you can retrieve some more information about your *dataframe* by using the `shape` and `columns` *methods* and the `describe()` *function*.\n",
    "\n",
    "Here's a brief description of what each of the above *functions* does:\n",
    "- `shape`: returns a *tuple* representing the dimensionality of the *dataframe*.\n",
    "- `columns`: returns the column labels of the *dataframe*.\n",
    "- `describe()`: returns summary statistics of the columns in the *dataframe* provided, such as mean, count, standard deviation, etc.\n",
    "\n",
    "Run the cells below to review the information about the *dataframe*."
   ]
  },
  {
   "cell_type": "code",
   "execution_count": 4,
   "metadata": {},
   "outputs": [
    {
     "data": {
      "text/plain": [
       "(5572, 2)"
      ]
     },
     "execution_count": 4,
     "metadata": {},
     "output_type": "execute_result"
    }
   ],
   "source": [
    "emails.shape"
   ]
  },
  {
   "cell_type": "code",
   "execution_count": 5,
   "metadata": {},
   "outputs": [
    {
     "data": {
      "text/plain": [
       "Index(['label', 'email'], dtype='object')"
      ]
     },
     "execution_count": 5,
     "metadata": {},
     "output_type": "execute_result"
    }
   ],
   "source": [
    "emails.columns"
   ]
  },
  {
   "cell_type": "code",
   "execution_count": 6,
   "metadata": {},
   "outputs": [
    {
     "data": {
      "text/html": [
       "<div>\n",
       "<style scoped>\n",
       "    .dataframe tbody tr th:only-of-type {\n",
       "        vertical-align: middle;\n",
       "    }\n",
       "\n",
       "    .dataframe tbody tr th {\n",
       "        vertical-align: top;\n",
       "    }\n",
       "\n",
       "    .dataframe thead th {\n",
       "        text-align: right;\n",
       "    }\n",
       "</style>\n",
       "<table border=\"1\" class=\"dataframe\">\n",
       "  <thead>\n",
       "    <tr style=\"text-align: right;\">\n",
       "      <th></th>\n",
       "      <th>label</th>\n",
       "      <th>email</th>\n",
       "    </tr>\n",
       "  </thead>\n",
       "  <tbody>\n",
       "    <tr>\n",
       "      <th>count</th>\n",
       "      <td>5572</td>\n",
       "      <td>5572</td>\n",
       "    </tr>\n",
       "    <tr>\n",
       "      <th>unique</th>\n",
       "      <td>2</td>\n",
       "      <td>5169</td>\n",
       "    </tr>\n",
       "    <tr>\n",
       "      <th>top</th>\n",
       "      <td>ham</td>\n",
       "      <td>Sorry, I'll call later</td>\n",
       "    </tr>\n",
       "    <tr>\n",
       "      <th>freq</th>\n",
       "      <td>4825</td>\n",
       "      <td>30</td>\n",
       "    </tr>\n",
       "  </tbody>\n",
       "</table>\n",
       "</div>"
      ],
      "text/plain": [
       "       label                   email\n",
       "count   5572                    5572\n",
       "unique     2                    5169\n",
       "top      ham  Sorry, I'll call later\n",
       "freq    4825                      30"
      ]
     },
     "execution_count": 6,
     "metadata": {},
     "output_type": "execute_result"
    }
   ],
   "source": [
    "emails.describe()"
   ]
  },
  {
   "cell_type": "markdown",
   "metadata": {},
   "source": [
    "[Back to top](#Index:) \n",
    "\n",
    "<a id='part2'></a>\n",
    "\n",
    "### Part 2: Shuffling  and Splitting the Text Messages\n",
    "\n",
    "In the second part of this activity, you will shuffle the emails and split them into a training set (2,500 messages), a validation set (1,000 messages), and a test set (all remaining messages).\n",
    "\n",
    "Begin by shuffling the messages. This can be done using the `sample` *function* from the `pandas` *library*.\n",
    "\n",
    "Complete the code cell below by applying the `sample()` *function* to the *dataframe* emails. Set the `frac = 1` *argument* and `random_state = 0`. `frac` denotes the proportion of the *dataframe* to sample, and `random_state` is a random seed that ensures reproducibility of your results. \n",
    "\n",
    "Next, reset the *index* of `emails` to align with the shuffled emails by using the `reset_index` *function* with the appropriate *argument*. \n",
    "\n",
    "Here's a link for you where you can find the documentation about the [`reset_index()`](https://pandas.pydata.org/pandas-docs/stable/reference/api/pandas.DataFrame.reset_index.html) *function*."
   ]
  },
  {
   "cell_type": "code",
   "execution_count": 16,
   "metadata": {},
   "outputs": [
    {
     "data": {
      "text/html": [
       "<div>\n",
       "<style scoped>\n",
       "    .dataframe tbody tr th:only-of-type {\n",
       "        vertical-align: middle;\n",
       "    }\n",
       "\n",
       "    .dataframe tbody tr th {\n",
       "        vertical-align: top;\n",
       "    }\n",
       "\n",
       "    .dataframe thead th {\n",
       "        text-align: right;\n",
       "    }\n",
       "</style>\n",
       "<table border=\"1\" class=\"dataframe\">\n",
       "  <thead>\n",
       "    <tr style=\"text-align: right;\">\n",
       "      <th></th>\n",
       "      <th>label</th>\n",
       "      <th>email</th>\n",
       "    </tr>\n",
       "  </thead>\n",
       "  <tbody>\n",
       "    <tr>\n",
       "      <th>0</th>\n",
       "      <td>ham</td>\n",
       "      <td>Yeh. Indians was nice. Tho it did kane me off ...</td>\n",
       "    </tr>\n",
       "    <tr>\n",
       "      <th>1</th>\n",
       "      <td>ham</td>\n",
       "      <td>Meeting u is my work. . . Tel me when shall i ...</td>\n",
       "    </tr>\n",
       "    <tr>\n",
       "      <th>2</th>\n",
       "      <td>ham</td>\n",
       "      <td>Now u sound like manky scouse boy steve,like! ...</td>\n",
       "    </tr>\n",
       "    <tr>\n",
       "      <th>3</th>\n",
       "      <td>ham</td>\n",
       "      <td>Funny fact Nobody teaches volcanoes 2 erupt, t...</td>\n",
       "    </tr>\n",
       "    <tr>\n",
       "      <th>4</th>\n",
       "      <td>ham</td>\n",
       "      <td>Hey leave it. not a big deal:-) take care.</td>\n",
       "    </tr>\n",
       "    <tr>\n",
       "      <th>...</th>\n",
       "      <td>...</td>\n",
       "      <td>...</td>\n",
       "    </tr>\n",
       "    <tr>\n",
       "      <th>5567</th>\n",
       "      <td>ham</td>\n",
       "      <td>I'm at home. Please call</td>\n",
       "    </tr>\n",
       "    <tr>\n",
       "      <th>5568</th>\n",
       "      <td>ham</td>\n",
       "      <td>Yes da. Any plm at ur office</td>\n",
       "    </tr>\n",
       "    <tr>\n",
       "      <th>5569</th>\n",
       "      <td>ham</td>\n",
       "      <td>Bugis oso near wat...</td>\n",
       "    </tr>\n",
       "    <tr>\n",
       "      <th>5570</th>\n",
       "      <td>ham</td>\n",
       "      <td>We are hoping to get away by 7, from Langport....</td>\n",
       "    </tr>\n",
       "    <tr>\n",
       "      <th>5571</th>\n",
       "      <td>ham</td>\n",
       "      <td>Is ur lecture over?</td>\n",
       "    </tr>\n",
       "  </tbody>\n",
       "</table>\n",
       "<p>5572 rows × 2 columns</p>\n",
       "</div>"
      ],
      "text/plain": [
       "     label                                              email\n",
       "0      ham  Yeh. Indians was nice. Tho it did kane me off ...\n",
       "1      ham  Meeting u is my work. . . Tel me when shall i ...\n",
       "2      ham  Now u sound like manky scouse boy steve,like! ...\n",
       "3      ham  Funny fact Nobody teaches volcanoes 2 erupt, t...\n",
       "4      ham         Hey leave it. not a big deal:-) take care.\n",
       "...    ...                                                ...\n",
       "5567   ham                           I'm at home. Please call\n",
       "5568   ham                       Yes da. Any plm at ur office\n",
       "5569   ham                             Bugis oso near wat... \n",
       "5570   ham  We are hoping to get away by 7, from Langport....\n",
       "5571   ham                                Is ur lecture over?\n",
       "\n",
       "[5572 rows x 2 columns]"
      ]
     },
     "execution_count": 16,
     "metadata": {},
     "output_type": "execute_result"
    }
   ],
   "source": [
    "emails = emails.sample(frac=1, random_state=0)\n",
    "\n",
    "\n",
    "\n",
    "emails.reset_index(drop=True)\n"
   ]
  },
  {
   "cell_type": "markdown",
   "metadata": {},
   "source": [
    "Run the code cell below to visualize the updated *dataframe*."
   ]
  },
  {
   "cell_type": "code",
   "execution_count": 17,
   "metadata": {},
   "outputs": [
    {
     "data": {
      "text/html": [
       "<div>\n",
       "<style scoped>\n",
       "    .dataframe tbody tr th:only-of-type {\n",
       "        vertical-align: middle;\n",
       "    }\n",
       "\n",
       "    .dataframe tbody tr th {\n",
       "        vertical-align: top;\n",
       "    }\n",
       "\n",
       "    .dataframe thead th {\n",
       "        text-align: right;\n",
       "    }\n",
       "</style>\n",
       "<table border=\"1\" class=\"dataframe\">\n",
       "  <thead>\n",
       "    <tr style=\"text-align: right;\">\n",
       "      <th></th>\n",
       "      <th>label</th>\n",
       "      <th>email</th>\n",
       "    </tr>\n",
       "  </thead>\n",
       "  <tbody>\n",
       "    <tr>\n",
       "      <th>5555</th>\n",
       "      <td>ham</td>\n",
       "      <td>Yeh. Indians was nice. Tho it did kane me off ...</td>\n",
       "    </tr>\n",
       "    <tr>\n",
       "      <th>3629</th>\n",
       "      <td>ham</td>\n",
       "      <td>Meeting u is my work. . . Tel me when shall i ...</td>\n",
       "    </tr>\n",
       "    <tr>\n",
       "      <th>4336</th>\n",
       "      <td>ham</td>\n",
       "      <td>Now u sound like manky scouse boy steve,like! ...</td>\n",
       "    </tr>\n",
       "    <tr>\n",
       "      <th>3247</th>\n",
       "      <td>ham</td>\n",
       "      <td>Funny fact Nobody teaches volcanoes 2 erupt, t...</td>\n",
       "    </tr>\n",
       "    <tr>\n",
       "      <th>383</th>\n",
       "      <td>ham</td>\n",
       "      <td>Hey leave it. not a big deal:-) take care.</td>\n",
       "    </tr>\n",
       "  </tbody>\n",
       "</table>\n",
       "</div>"
      ],
      "text/plain": [
       "     label                                              email\n",
       "5555   ham  Yeh. Indians was nice. Tho it did kane me off ...\n",
       "3629   ham  Meeting u is my work. . . Tel me when shall i ...\n",
       "4336   ham  Now u sound like manky scouse boy steve,like! ...\n",
       "3247   ham  Funny fact Nobody teaches volcanoes 2 erupt, t...\n",
       "383    ham         Hey leave it. not a big deal:-) take care."
      ]
     },
     "execution_count": 17,
     "metadata": {},
     "output_type": "execute_result"
    }
   ],
   "source": [
    "emails.head()"
   ]
  },
  {
   "cell_type": "markdown",
   "metadata": {},
   "source": [
    "Next, you need to split the emails into a training set (the first 2,500 emails in the *dataframe*), a validation set (the next 1,000 emails), and a testing set (the remaining emails). These three sets will be defined as `trainingMsgs`, `valMsgs`, and `testingMsgs`.\n",
    "\n",
    "In the code cell below, the messages and their correspoding labels are defined. Next, you will split the messages into the required sets according to the instructions."
   ]
  },
  {
   "cell_type": "code",
   "execution_count": 18,
   "metadata": {},
   "outputs": [],
   "source": [
    "email = list(emails.email) \n",
    "lbls =list(emails.label) \n",
    "trainingEmail = email[:2500] \n",
    "valEmail = email[2500:3500] \n",
    "testingEmail = email[3500:]"
   ]
  },
  {
   "cell_type": "markdown",
   "metadata": {},
   "source": [
    "Following the syntax used above, complete the cell below to split the labels into a training set, a validation set, and a test set."
   ]
  },
  {
   "cell_type": "code",
   "execution_count": 19,
   "metadata": {},
   "outputs": [],
   "source": [
    "traininglbls = lbls[:2500]\n",
    "vallbls = lbls[2500:3500] \n",
    "testinglbls = lbls[3500:]"
   ]
  },
  {
   "cell_type": "markdown",
   "metadata": {},
   "source": [
    "[Back to top](#Index:) \n",
    "\n",
    "<a id='part3'></a>\n",
    "\n",
    "### Part 3: Building a Simple Naïve Bayes Classifier From Scratch\n",
    "\n",
    "While Python’s SciKit-learn *library* has a [Naïve Bayes classifier](https://scikit-learn.org/stable/modules/naive_bayes.html), it works with continuous probability distributions and assumes numerical features. \n",
    "\n",
    "Here, you will instead build a simple Naïve Bayes classifier from scratch."
   ]
  },
  {
   "cell_type": "code",
   "execution_count": null,
   "metadata": {},
   "outputs": [],
   "source": [
    "import numpy as np\n",
    "\n",
    "\n",
    "class NaiveBayesForSpam:\n",
    "    def train (self, nonSPamMessages, spamMessages):\n",
    "        self.words = set (' '.join (nonSPamMessages + spamMessages).split())\n",
    "        self.priors = np.zeros (2)\n",
    "        self.priors[0] = float (len (nonSPamMessages)) / (len (nonSPamMessages) + len (spamMessages))\n",
    "        self.priors[1] = 1.0 - self.priors[0]\n",
    "        self.likelihoods = []\n",
    "        for i, w in enumerate (self.words):\n",
    "            prob1 = (1.0 + len ([m for m in nonSPamMessages if w in m])) / len (nonSPamMessages)\n",
    "            prob2 = (1.0 + len ([m for m in spamMessages if w in m])) / len (spamMessages)\n",
    "            self.likelihoods.append ([min (prob1, 0.95), min (prob2, 0.95)])\n",
    "        self.likelihoods = np.array (self.likelihoods).T\n",
    "        \n",
    "    def predict (self, message):\n",
    "        posteriors = np.copy (self.priors)\n",
    "        for i, w in enumerate (self.words):\n",
    "            if w in message.lower():  # convert to lower-case\n",
    "                posteriors *= self.likelihoods[:,i]\n",
    "            else:                                   \n",
    "                posteriors *= np.ones (2) - self.likelihoods[:,i]\n",
    "            posteriors = posteriors / np.linalg.norm (posteriors)  # normalize\n",
    "        if posteriors[0] > 0.5:\n",
    "            return ['ham', posteriors[0]]\n",
    "        return ['spam', posteriors[1]]    \n",
    "\n",
    "    def score (self, messages, labels):\n",
    "        confusion = np.zeros(4).reshape (2,2)\n",
    "        for m, l in zip (messages, labels):\n",
    "            if self.predict(m)[0] == 'ham' and l == 'ham':\n",
    "                confusion[0,0] += 1\n",
    "            elif self.predict(m)[0] == 'ham' and l == 'spam':\n",
    "                confusion[0,1] += 1\n",
    "            elif self.predict(m)[0] == 'spam' and l == 'ham':\n",
    "                confusion[1,0] += 1\n",
    "            elif self.predict(m)[0] == 'spam' and l == 'spam':\n",
    "                confusion[1,1] += 1\n",
    "        return (confusion[0,0] + confusion[1,1]) / float (confusion.sum()), confusion"
   ]
  },
  {
   "cell_type": "markdown",
   "metadata": {},
   "source": [
    "[Back to top](#Index:) \n",
    "\n",
    "<a id='part4'></a>\n",
    "\n",
    "### Part 4: Explaining the Code Provided in Part 3\n",
    "\n",
    "Before explaining the code that was provided in Part 3, it is important to have some level of intuition as to what a spam email message might look like. Usually they have words designed to catch your eye and, in some sense, to tempt you to open them. Also, spam emails tend to have words written in all capital letters and use a lot of exclamation marks.\n",
    "\n",
    "The `train` *function* calculates and stores the prior probabilities and likelihoods based on the training dataset. In Naïve Bayes, this is all the training phase does. \n",
    "\n",
    "The `predict` *function* repeatedly applies the Naïve Bayes theorem to every word in the constructed *dictionary* and, based on the posterior probability, it classifies each email as `spam` or `non-spam`. The `score` *function* calls `predict` for multiple emails and compares the outcomes with the supplied `ground truth` labels, thus evaluating the classifier. It also computes and returns a confusion matrix.\n"
   ]
  },
  {
   "cell_type": "markdown",
   "metadata": {},
   "source": [
    "[Back to top](#Index:) \n",
    "\n",
    "<a id='part5'></a>\n",
    "\n",
    "### Part 5: Training the `train`  Classifier\n",
    "\n",
    "Looking at the definition of the `train` *function* in Part 2, you can see that the training *functions* require the `non-spam` and `spam` emails to be passed on separately.\n",
    "\n",
    "The `non-spam` emails can be passed using the code given below:"
   ]
  },
  {
   "cell_type": "code",
   "execution_count": 21,
   "metadata": {},
   "outputs": [],
   "source": [
    "nonSpamEmails = [m for (m, l) in zip(trainingEmail, traininglbls) if 'ham' in l]\n"
   ]
  },
  {
   "cell_type": "markdown",
   "metadata": {},
   "source": [
    "Complete the cell below to pass the spam emails."
   ]
  },
  {
   "cell_type": "code",
   "execution_count": 22,
   "metadata": {},
   "outputs": [],
   "source": [
    "spamEmails = [m for (m, l) in zip(trainingEmail, traininglbls) if 'spam' in l]\n"
   ]
  },
  {
   "cell_type": "markdown",
   "metadata": {},
   "source": [
    "Run the cell below to see how many `non-spam` and `spam` emails you have."
   ]
  },
  {
   "cell_type": "code",
   "execution_count": 28,
   "metadata": {},
   "outputs": [
    {
     "name": "stdout",
     "output_type": "stream",
     "text": [
      "2154\n",
      "346\n"
     ]
    }
   ],
   "source": [
    "print(len(nonSpamEmails))\n",
    "print(len(spamEmails))"
   ]
  },
  {
   "cell_type": "markdown",
   "metadata": {},
   "source": [
    "Their sum equals 2,500 as expected. \n",
    "\n",
    "Next, you need to create the classifier for your analysis using the `NaiveBayesForSpam`*function*. \n",
    "\n",
    "After that, you will train `non-spammsgs` and `spammsgs` using the `train` *function*. "
   ]
  },
  {
   "cell_type": "code",
   "execution_count": 32,
   "metadata": {},
   "outputs": [],
   "source": [
    "clf = NaiveBayesForSpam()\n",
    "clf.train(nonSpamEmails, spamEmails)\n"
   ]
  },
  {
   "cell_type": "markdown",
   "metadata": {},
   "source": [
    "[Back to top](#Index:) \n",
    "\n",
    "<a id='part6'></a>\n",
    "\n",
    "### Part 6: Exploring the Performance of the `train` Classifier\n",
    "\n",
    "You can explore the performance of the two classifiers on the *validation set* by using the `.score()` *function*.\n",
    "\n",
    "Complete the code cell below to compute the score and the confusion matrix for this case.\n",
    "\n",
    "\n",
    "**IMPORTANT NOTE: Results in the following sections will change. This is expected and due to the random shuffling. The results will be different for each shuffling. To ensure reproducible results, define `random_state` in the `sample` *method* when shuffling the data in [Part 2: Shuffling and Splitting the Text Messages](#part2).**\n"
   ]
  },
  {
   "cell_type": "code",
   "execution_count": 33,
   "metadata": {},
   "outputs": [],
   "source": [
    "score, confusion = clf.score(valEmail, vallbls)\n"
   ]
  },
  {
   "cell_type": "markdown",
   "metadata": {},
   "source": [
    "Run the code cells below to print the score and the confusion matrix."
   ]
  },
  {
   "cell_type": "code",
   "execution_count": 34,
   "metadata": {},
   "outputs": [
    {
     "name": "stdout",
     "output_type": "stream",
     "text": [
      "The overall performance is: 0.968\n"
     ]
    }
   ],
   "source": [
    "print(\"The overall performance is:\", score)"
   ]
  },
  {
   "cell_type": "code",
   "execution_count": 35,
   "metadata": {},
   "outputs": [
    {
     "name": "stdout",
     "output_type": "stream",
     "text": [
      "The confusion matrix is:\n",
      " [[865.  29.]\n",
      " [  3. 103.]]\n"
     ]
    }
   ],
   "source": [
    "print(\"The confusion matrix is:\\n\", confusion)"
   ]
  },
  {
   "cell_type": "markdown",
   "metadata": {},
   "source": [
    "Your data is not equally divided into the two *classes*. As a baseline, let’s see what the success rate would be if you always guessed non-spam.\n",
    "\n",
    "Run the code cell below to *print* the new score."
   ]
  },
  {
   "cell_type": "code",
   "execution_count": 36,
   "metadata": {},
   "outputs": [
    {
     "name": "stdout",
     "output_type": "stream",
     "text": [
      "new_score 0.868\n"
     ]
    }
   ],
   "source": [
    "print('new_score', len([1 for l in vallbls if 'ham' in l]) / float (len ( vallbls)))"
   ]
  },
  {
   "cell_type": "markdown",
   "metadata": {},
   "source": [
    "Compare the baseline score to the performance on the validation set. Which is better?\n",
    "\n",
    "You can also calculate the sample error by calculating the score and the confusion matrix on the training set."
   ]
  },
  {
   "cell_type": "code",
   "execution_count": 37,
   "metadata": {},
   "outputs": [],
   "source": [
    "#Note: this cell may take a LONG time to run!\n",
    "score, confusion = clf.score (trainingEmail, traininglbls)\n"
   ]
  },
  {
   "cell_type": "code",
   "execution_count": 38,
   "metadata": {},
   "outputs": [
    {
     "name": "stdout",
     "output_type": "stream",
     "text": [
      "The overall performance is: 0.9788\n"
     ]
    }
   ],
   "source": [
    "print(\"The overall performance is:\", score)"
   ]
  },
  {
   "cell_type": "code",
   "execution_count": 39,
   "metadata": {},
   "outputs": [
    {
     "name": "stdout",
     "output_type": "stream",
     "text": [
      "The confusion matrix is:\n",
      " [[2151.   50.]\n",
      " [   3.  296.]]\n"
     ]
    }
   ],
   "source": [
    "print(\"The confusion matrix is:\\n\", confusion)"
   ]
  },
  {
   "cell_type": "markdown",
   "metadata": {},
   "source": [
    "[Back to top](#Index:) \n",
    "\n",
    "<a id='part7'></a>\n",
    "\n",
    "### Part 7: Training the `train2` Classifier\n",
    "\n",
    "In this section, you will define a second classifier, `train2`, and compare its performance to the `train` classifier defined above.\n",
    "\n",
    "The `train2` classifier is defined in the code cell below."
   ]
  },
  {
   "cell_type": "code",
   "execution_count": null,
   "metadata": {},
   "outputs": [],
   "source": [
    "class NaiveBayesForSpam:\n",
    "    def train2 ( self , nonSpamMessages , spamMessages) :\n",
    "            self.words = set (' '.join (nonSpamMessages + spamMessages).split())\n",
    "            self.priors = np. zeros (2)\n",
    "            self.priors [0] = float (len (nonSpamMessages)) / (len (nonSpamMessages) +len( spamMessages ) )\n",
    "            self.priors [1] = 1.0 - self . priors [0] \n",
    "            self.likelihoods = []\n",
    "            spamkeywords = [ ]\n",
    "            for i, w in enumerate (self.words):\n",
    "                prob1 = (1.0 + len ([m for m in nonSpamMessages if w in m])) /len ( nonSpamMessages )\n",
    "                prob2 = (1.0 + len ([m for m in spamMessages if w in m])) /len ( spamMessages ) \n",
    "                if prob1 * 20 < prob2:\n",
    "                    self.likelihoods.append([min (prob1 , 0.95) , min (prob2 , 0.95) ])\n",
    "                    spamkeywords . append (w) \n",
    "            self.words = spamkeywords\n",
    "            self.likelihoods = np.array (self.likelihoods).T \n",
    "            \n",
    "    def predict (self, message):\n",
    "        posteriors = np.copy (self.priors)\n",
    "        for i, w in enumerate (self.words):\n",
    "            if w in message.lower():  # convert to lower-case\n",
    "                posteriors *= self.likelihoods[:,i]\n",
    "            else:                                   \n",
    "                posteriors *= np.ones (2) - self.likelihoods[:,i]\n",
    "            posteriors = posteriors / np.linalg.norm (posteriors)  # normalise\n",
    "        if posteriors[0] > 0.5:\n",
    "            return ['ham', posteriors[0]]\n",
    "        return ['spam', posteriors[1]]    \n",
    "\n",
    "    def score (self, messages, labels):\n",
    "        confusion = np.zeros(4).reshape (2,2)\n",
    "        for m, l in zip (messages, labels):\n",
    "            if self.predict(m)[0] == 'ham' and l == 'ham':\n",
    "                confusion[0,0] += 1\n",
    "            elif self.predict(m)[0] == 'ham' and l == 'spam':\n",
    "                confusion[0,1] += 1\n",
    "            elif self.predict(m)[0] == 'spam' and l == 'ham':\n",
    "                confusion[1,0] += 1\n",
    "            elif self.predict(m)[0] == 'spam' and l == 'spam':\n",
    "                confusion[1,1] += 1\n",
    "        return (confusion[0,0] + confusion[1,1]) / float (confusion.sum()), confusion\n",
    "    "
   ]
  },
  {
   "cell_type": "markdown",
   "metadata": {},
   "source": [
    "Next, you need to update the classifier for your analysis using the `NaiveBayesForSpam` *function*. Complete the cell below to create the `clf` classifier.\n",
    "\n",
    "Next, train `non-spammsgs` and `spammsgs` using the `train2` *function*. \n",
    "\n",
    "*HINT:* For this last part, look at the definition of the `train2` *function*."
   ]
  },
  {
   "cell_type": "code",
   "execution_count": 42,
   "metadata": {},
   "outputs": [],
   "source": [
    "clf = NaiveBayesForSpam()\n",
    "#train using the new classifier\n",
    "clf.train2(nonSpamEmails, spamEmails)"
   ]
  },
  {
   "cell_type": "markdown",
   "metadata": {},
   "source": [
    "Re-compute the score and the confusion matrix on the validation set using the updated classifier."
   ]
  },
  {
   "cell_type": "code",
   "execution_count": 44,
   "metadata": {},
   "outputs": [],
   "source": [
    "#Again, this cell may take a long time to run!\n",
    "score_2, confusion_2 = clf.score(valEmail, vallbls)\n"
   ]
  },
  {
   "cell_type": "markdown",
   "metadata": {},
   "source": [
    "Run the code cells below to get the updated values."
   ]
  },
  {
   "cell_type": "code",
   "execution_count": 45,
   "metadata": {},
   "outputs": [
    {
     "name": "stdout",
     "output_type": "stream",
     "text": [
      "The overall performance is:  0.972\n"
     ]
    }
   ],
   "source": [
    "print(\"The overall performance is: \", score_2)"
   ]
  },
  {
   "cell_type": "code",
   "execution_count": 46,
   "metadata": {},
   "outputs": [
    {
     "name": "stdout",
     "output_type": "stream",
     "text": [
      "The confusion matrix is:\n",
      " [[861.  21.]\n",
      " [  7. 111.]]\n"
     ]
    }
   ],
   "source": [
    "print(\"The confusion matrix is:\\n\", confusion_2)"
   ]
  },
  {
   "cell_type": "markdown",
   "metadata": {},
   "source": [
    "- **Question 1: How does the performance of the two classifiers compare?**\n",
    "\n",
    "- **Question 2: What do the `train` and `train2` classifiers do, and what is the difference between them?**\n",
    "\n",
    "\n",
    "You can double-click this cell to write your answers.\n",
    "\n",
    "**YOUR ANSWERS**\n",
    "\n",
    "Question 1: classifier 1 and classifier 2 were very close in performance:\n",
    "Classifier 1: \n",
    "\n",
    "The overall performance is: 0.968\n",
    "\n",
    "The confusion matrix is:\n",
    " [[865.  29.]\n",
    " [  3. 103.]]\n",
    "\n",
    "Classifier 2:\n",
    "\n",
    "The overall performance is:  0.972\n",
    "\n",
    "The confusion matrix is:\n",
    " [[861.  21.]\n",
    " [  7. 111.]]\n",
    " \n",
    " \n",
    "Question 2: train is using all words in the dataset where train2 first builds a keywords list of words that are more likely to be in spam than non spam emails (specifically 20x more likely).\n"
   ]
  },
  {
   "cell_type": "markdown",
   "metadata": {},
   "source": [
    "Congratulations! Now you know how to implement Naïve Bayes for detecting spam emails."
   ]
  },
  {
   "cell_type": "code",
   "execution_count": null,
   "metadata": {},
   "outputs": [],
   "source": []
  }
 ],
 "metadata": {
  "kernelspec": {
   "display_name": "Python 3",
   "language": "python",
   "name": "python3"
  },
  "language_info": {
   "codemirror_mode": {
    "name": "ipython",
    "version": 3
   },
   "file_extension": ".py",
   "mimetype": "text/x-python",
   "name": "python",
   "nbconvert_exporter": "python",
   "pygments_lexer": "ipython3",
   "version": "3.11.9"
  }
 },
 "nbformat": 4,
 "nbformat_minor": 2
}
