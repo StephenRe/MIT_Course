{
 "cells": [
  {
   "cell_type": "code",
   "execution_count": 1,
   "id": "820d3931-3377-40d5-87a9-2239608131c0",
   "metadata": {},
   "outputs": [],
   "source": [
    "import dask.array as da\n",
    "from dask.distributed import Client"
   ]
  },
  {
   "cell_type": "code",
   "execution_count": 2,
   "id": "2fc97b21-bd4a-4ec4-ab84-23dd58f38e57",
   "metadata": {},
   "outputs": [],
   "source": [
    "x = da.random.random((50000, 50000))\n",
    "y = da.exp(x).sum()"
   ]
  },
  {
   "cell_type": "code",
   "execution_count": 3,
   "id": "a3e51aa7-ce44-4c84-9d79-475cd246bdf4",
   "metadata": {},
   "outputs": [
    {
     "data": {
      "text/plain": [
       "np.float64(4295745357.374677)"
      ]
     },
     "execution_count": 3,
     "metadata": {},
     "output_type": "execute_result"
    },
    {
     "name": "stderr",
     "output_type": "stream",
     "text": [
      "2024-11-10 13:36:54,113 - distributed.client - ERROR - Failed to reconnect to scheduler after 30.00 seconds, closing client\n"
     ]
    }
   ],
   "source": [
    "client = Client(\"tcp://192.168.50.165:8786\")\n",
    "y.compute()"
   ]
  }
 ],
 "metadata": {
  "kernelspec": {
   "display_name": "Python 3 (ipykernel)",
   "language": "python",
   "name": "python3"
  },
  "language_info": {
   "codemirror_mode": {
    "name": "ipython",
    "version": 3
   },
   "file_extension": ".py",
   "mimetype": "text/x-python",
   "name": "python",
   "nbconvert_exporter": "python",
   "pygments_lexer": "ipython3",
   "version": "3.11.9"
  }
 },
 "nbformat": 4,
 "nbformat_minor": 5
}
